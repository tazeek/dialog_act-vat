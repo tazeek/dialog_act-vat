{
 "cells": [
  {
   "cell_type": "code",
   "execution_count": 9,
   "id": "1de1f073",
   "metadata": {},
   "outputs": [],
   "source": [
    "from sentence_transformers import SentenceTransformer\n",
    "from sklearn.manifold import TSNE\n",
    "\n",
    "import pandas as pd\n",
    "import numpy as np\n",
    "import plotly.graph_objs as go"
   ]
  },
  {
   "cell_type": "markdown",
   "id": "2bd1688d",
   "metadata": {},
   "source": [
    "# Load the models\n",
    "\n",
    "- SBERT (For Sentence-based vectors)\n",
    "- BERT"
   ]
  },
  {
   "cell_type": "code",
   "execution_count": 2,
   "id": "2ddceadf",
   "metadata": {},
   "outputs": [],
   "source": [
    "# Load the pre-trained model (SBERT)\n",
    "model_name = 'bert-base-nli-mean-tokens'\n",
    "model = SentenceTransformer(model_name)"
   ]
  },
  {
   "cell_type": "markdown",
   "id": "4b7a8838",
   "metadata": {},
   "source": [
    "# Load the data\n",
    "\n",
    "Utteraces: For utterance-based analysis\n",
    "\n",
    "Dialog Act labels: For dialog act analysis"
   ]
  },
  {
   "cell_type": "code",
   "execution_count": 16,
   "id": "e01b2c48",
   "metadata": {},
   "outputs": [],
   "source": [
    "# Load the utterances and dialog act labels\n",
    "\n",
    "def load_utterances():\n",
    "    \n",
    "    utterances_dict = {}\n",
    "    \n",
    "    with open('data_loaders/dailydialog/dialogues_text.txt', encoding='utf-8') as f:\n",
    "        \n",
    "        for index, line in enumerate(f):\n",
    "            \n",
    "            utterances = line.replace('’',\"'\").split('__eou__')\n",
    "            utterances.pop(-1)\n",
    "            utterances_dict[index] = utterances\n",
    "    \n",
    "    return utterances_dict\n",
    "    \n",
    "def load_labels():\n",
    "    labels_dict = {}\n",
    "    \n",
    "    with open('data_loaders/dailydialog/dialogues_act.txt') as f:\n",
    "        for index, line in enumerate(f):\n",
    "            labels_dict[index] = line.strip().split(' ')\n",
    "    \n",
    "    return labels_dict\n",
    "\n",
    "utterances_list = load_utterances()\n",
    "dialog_labels = load_labels()"
   ]
  },
  {
   "cell_type": "markdown",
   "id": "6f5b6686",
   "metadata": {},
   "source": [
    "# Utterance Features visualization\n",
    "\n",
    "- **Input**: Sentence\n",
    "- **Output**: Feature Vector\n",
    "- **Visualize**: T-SNE + PCA + Scatter Plot"
   ]
  },
  {
   "cell_type": "code",
   "execution_count": 22,
   "id": "bac73cd7",
   "metadata": {},
   "outputs": [],
   "source": [
    "# Convert to Dataframe\n",
    "\n",
    "# First extract all the sentences\n",
    "# and the corresponding labels\n",
    "utterances = []\n",
    "da_labels = []\n",
    "\n",
    "for key, utter_list in utterances_list.items():\n",
    "    \n",
    "    # Get the DA labels\n",
    "    da_label_list = dialog_labels[key]\n",
    "    \n",
    "    utterances += [utterance for utterance in utter_list]\n",
    "    da_labels += [label for label in da_label_list]"
   ]
  },
  {
   "cell_type": "code",
   "execution_count": null,
   "id": "c9545247",
   "metadata": {},
   "outputs": [],
   "source": [
    "sentences = ['I like eating burgers', 'Burgers are tasty!', 'This is the last one']\n",
    "sentence_embeddings = model.encode(sentences)\n",
    "print(len(sentence_embeddings[0]))"
   ]
  },
  {
   "cell_type": "code",
   "execution_count": null,
   "id": "344a1d2f",
   "metadata": {},
   "outputs": [],
   "source": [
    "perplexity = 2\n",
    "\n",
    "tsne = TSNE(\n",
    "    n_components=2, random_state=42, \n",
    "    perplexity = perplexity, init='pca',\n",
    "    learning_rate=200\n",
    ")\n",
    "\n",
    "\n",
    "tsne_embeddings = tsne.fit_transform(sentence_embeddings)"
   ]
  },
  {
   "cell_type": "code",
   "execution_count": null,
   "id": "50963882",
   "metadata": {},
   "outputs": [],
   "source": [
    "scatter_trace = go.Scatter(\n",
    "    x = tsne_embeddings[:, 0],\n",
    "    y = tsne_embeddings[:, 1],\n",
    "    mode = 'markers',\n",
    "    marker = dict(\n",
    "        size = 10,\n",
    "        color = ['red', 'green', 'blue']\n",
    "    ),\n",
    "    text = sentences\n",
    ")\n",
    "\n",
    "data = [scatter_trace]"
   ]
  },
  {
   "cell_type": "code",
   "execution_count": null,
   "id": "e06f132d",
   "metadata": {},
   "outputs": [],
   "source": [
    "layout = dict(\n",
    "    title = 'SBERT Visualization',\n",
    "    xaxis = dict(title='Dimesion 1'),\n",
    "    yaxis = dict(title='Dimension 2'),\n",
    "    hovermode = 'closest'\n",
    ")"
   ]
  },
  {
   "cell_type": "code",
   "execution_count": null,
   "id": "4daf430f",
   "metadata": {},
   "outputs": [],
   "source": [
    "fig = go.Figure(data=data, layout=layout)\n",
    "fig.show()"
   ]
  },
  {
   "cell_type": "code",
   "execution_count": null,
   "id": "5c17f690",
   "metadata": {},
   "outputs": [],
   "source": []
  }
 ],
 "metadata": {
  "kernelspec": {
   "display_name": "Python 3 (ipykernel)",
   "language": "python",
   "name": "python3"
  },
  "language_info": {
   "codemirror_mode": {
    "name": "ipython",
    "version": 3
   },
   "file_extension": ".py",
   "mimetype": "text/x-python",
   "name": "python",
   "nbconvert_exporter": "python",
   "pygments_lexer": "ipython3",
   "version": "3.9.0"
  }
 },
 "nbformat": 4,
 "nbformat_minor": 5
}
