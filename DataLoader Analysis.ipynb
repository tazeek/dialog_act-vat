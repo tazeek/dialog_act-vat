{
 "cells": [
  {
   "cell_type": "code",
   "execution_count": 1,
   "id": "dee48db4",
   "metadata": {},
   "outputs": [],
   "source": [
    "import torch"
   ]
  },
  {
   "cell_type": "code",
   "execution_count": 2,
   "id": "96176102",
   "metadata": {},
   "outputs": [
    {
     "name": "stderr",
     "output_type": "stream",
     "text": [
      "C:\\Users\\user\\anaconda3\\envs\\dialog_act-vat\\lib\\site-packages\\tqdm\\auto.py:21: TqdmWarning: IProgress not found. Please update jupyter and ipywidgets. See https://ipywidgets.readthedocs.io/en/stable/user_install.html\n",
      "  from .autonotebook import tqdm as notebook_tqdm\n"
     ]
    },
    {
     "name": "stdout",
     "output_type": "stream",
     "text": [
      "1363\n"
     ]
    }
   ],
   "source": [
    "train_dataloader = torch.load('preprocessed_data/trainloader_bert.pth')\n",
    "print(len(train_dataloader))"
   ]
  },
  {
   "cell_type": "code",
   "execution_count": 4,
   "id": "f837e10d",
   "metadata": {},
   "outputs": [
    {
     "name": "stdout",
     "output_type": "stream",
     "text": [
      "[('Say , Jim , how about going for a few beers after dinner ? ', 2), (' You know that is tempting but is really not good for our fitness . ', 3), (' What do you mean ? It will help us to relax . ', 1), (\" Do you really think so ? I don't . It will just make us fat and act silly . Remember last time ? \", 1), (\" I guess you are right.But what shall we do ? I don't feel like sitting at home . \", 1), (' I suggest a walk over to the gym where we can play singsong and meet some of our friends . ', 2), (\" That's a good idea . I hear Mary and Sally often go there to play pingpong.Perhaps we can make a foursome with them . \", 3), (' Sounds great to me ! If they are willing , we could ask them to go dancing with us.That is excellent exercise and fun , too . ', 0), (\" Good.Let ' s go now . \", 2), (' All right . ', 3), ('Can you do push-ups ? ', 1), (\" Of course I can . It's a piece of cake ! Believe it or not , I can do 30 push-ups a minute . \", 0), (\" Really ? I think that's impossible ! \", 1), (' You mean 30 push-ups ? ', 1), (' Yeah ! ', 0), (\" It's easy . If you do exercise everyday , you can make it , too . \", 0), ('Can you study with the radio on ? ', 1), (' No , I listen to background music . ', 0), (' What is the difference ? ', 1), (' The radio has too many comerials . ', 0), (\" That's true , but then you have to buy a record player . \", 0), ('Are you all right ? ', 1), (' I will be all right soon . I was terrified when I watched them fall from the wire . ', 0), (\" Don't worry.He is an acrobat 。 \", 0), (' I see . ', 0), ('Hey John , nice skates . Are they new ? ', 1), (' Yeah , I just got them . I started playing ice hockey in a community league . So , I finally got myself new skates . ', 0), (' What position do you play ? ', 1), (\" I ' m a defender . It ' s a lot of fun . You don ' t have to be able to skate as fast on defense . \", 0), (\" Yeah , you ' re a pretty big guy . I play goalie , myself . \", 0), (' Oh , yeah ? Which team ? ', 1), (' The Rockets . ', 0), (' Really ? I think we play you guys next week . Well , I have to go to practice . See you later . ', 2), (' All right , see you later . ', 3), ('Hey Lydia , what are you reading ? ', 1), (\" I ' m looking at my horoscope for this month ! My outlook is very positive . It says that I should take a vacation to someplace exotic , and that I will have a passionate summer fling ! \", 0), (' What are you talking about ? Let me see that ... What are horoscopes ? ', 1), (\" It ' s a prediction of your month , based on your zodiac sign . You have a different sign for the month and date you were born in . I was born on April 15th , so I ' m an Aries . When were you born ? \", 1), (' January 5th . ', 0), (\" Let ' s see . . . you ' re a Capricorn . It says that you will be feeling stress at work , but you could see new , exciting developments in your love life . Looks like we ' ll both have interesting summers ! \", 0), (\" That ' s bogus . I don't feel any stress at work , and my love life is practically nonexistent . This zodiac stuff is all a bunch of nonsense . \", 0), (\" No , it ' s not , your astrology sign can tell you a lot about your personality . See ? It says that an Aries is energetic and loves to socialize . \", 0), (\" Well , you certainly match those criteria , but they ' re so broad they could apply to anyone . What does it say about me ? \", 1), (' A Capricorn is serious-minded and practical . She likes to do things in conventional ways . That sounds just like you ! ', 0), (\"Frank ' s getting married , do you believe this ? \", 1), (' Is he really ? ', 1), (' Yes , he is . He loves the girl very much . ', 0), (' Who is he marring ? ', 1), (' A girl he met on holiday in Spain , I think . ', 0), (' Have they set a date for the wedding ? ', 1), (' Not yet . ', 0), ('I hear you bought a new house in the northern suburbs . ', 0), (\" That ' s right , we bought it the same day we came on the market . \", 0), (' What kind of house is it ? ', 1), (\" It ' s a wonderful Spanish style . \", 0), (' Oh , I love the roof tiles on Spanish style houses . ', 0), (\" And it ' s a bargaining . A house like this in river side costs double the price . \", 0), (' Great , is it a two bedroom house ? ', 1), (\" No , it has three bedrooms and three beds , and has a living room with a twelve-foot ceiling . There ' s a two-car garage . \", 0), (\" That ' s a nice area too . It ' ll be a good investment for you . \", 0), (' Yeas , when will you buy a house ? ', 1), (' Not untill the end of this year , you know , just before my wedding . ', 0), (' Right , congratulations . ', 0), (' Thank you . ', 0)]\n",
      "\n",
      "\n",
      "\n",
      "('Say , Jim , how about going for a few beers after dinner ? ', ' You know that is tempting but is really not good for our fitness . ', ' What do you mean ? It will help us to relax . ', \" Do you really think so ? I don't . It will just make us fat and act silly . Remember last time ? \", \" I guess you are right.But what shall we do ? I don't feel like sitting at home . \", ' I suggest a walk over to the gym where we can play singsong and meet some of our friends . ', \" That's a good idea . I hear Mary and Sally often go there to play pingpong.Perhaps we can make a foursome with them . \", ' Sounds great to me ! If they are willing , we could ask them to go dancing with us.That is excellent exercise and fun , too . ', \" Good.Let ' s go now . \", ' All right . ', 'Can you do push-ups ? ', \" Of course I can . It's a piece of cake ! Believe it or not , I can do 30 push-ups a minute . \", \" Really ? I think that's impossible ! \", ' You mean 30 push-ups ? ', ' Yeah ! ', \" It's easy . If you do exercise everyday , you can make it , too . \", 'Can you study with the radio on ? ', ' No , I listen to background music . ', ' What is the difference ? ', ' The radio has too many comerials . ', \" That's true , but then you have to buy a record player . \", 'Are you all right ? ', ' I will be all right soon . I was terrified when I watched them fall from the wire . ', \" Don't worry.He is an acrobat 。 \", ' I see . ', 'Hey John , nice skates . Are they new ? ', ' Yeah , I just got them . I started playing ice hockey in a community league . So , I finally got myself new skates . ', ' What position do you play ? ', \" I ' m a defender . It ' s a lot of fun . You don ' t have to be able to skate as fast on defense . \", \" Yeah , you ' re a pretty big guy . I play goalie , myself . \", ' Oh , yeah ? Which team ? ', ' The Rockets . ', ' Really ? I think we play you guys next week . Well , I have to go to practice . See you later . ', ' All right , see you later . ', 'Hey Lydia , what are you reading ? ', \" I ' m looking at my horoscope for this month ! My outlook is very positive . It says that I should take a vacation to someplace exotic , and that I will have a passionate summer fling ! \", ' What are you talking about ? Let me see that ... What are horoscopes ? ', \" It ' s a prediction of your month , based on your zodiac sign . You have a different sign for the month and date you were born in . I was born on April 15th , so I ' m an Aries . When were you born ? \", ' January 5th . ', \" Let ' s see . . . you ' re a Capricorn . It says that you will be feeling stress at work , but you could see new , exciting developments in your love life . Looks like we ' ll both have interesting summers ! \", \" That ' s bogus . I don't feel any stress at work , and my love life is practically nonexistent . This zodiac stuff is all a bunch of nonsense . \", \" No , it ' s not , your astrology sign can tell you a lot about your personality . See ? It says that an Aries is energetic and loves to socialize . \", \" Well , you certainly match those criteria , but they ' re so broad they could apply to anyone . What does it say about me ? \", ' A Capricorn is serious-minded and practical . She likes to do things in conventional ways . That sounds just like you ! ', \"Frank ' s getting married , do you believe this ? \", ' Is he really ? ', ' Yes , he is . He loves the girl very much . ', ' Who is he marring ? ', ' A girl he met on holiday in Spain , I think . ', ' Have they set a date for the wedding ? ', ' Not yet . ', 'I hear you bought a new house in the northern suburbs . ', \" That ' s right , we bought it the same day we came on the market . \", ' What kind of house is it ? ', \" It ' s a wonderful Spanish style . \", ' Oh , I love the roof tiles on Spanish style houses . ', \" And it ' s a bargaining . A house like this in river side costs double the price . \", ' Great , is it a two bedroom house ? ', \" No , it has three bedrooms and three beds , and has a living room with a twelve-foot ceiling . There ' s a two-car garage . \", \" That ' s a nice area too . It ' ll be a good investment for you . \", ' Yeas , when will you buy a house ? ', ' Not untill the end of this year , you know , just before my wedding . ', ' Right , congratulations . ', ' Thank you . ')\n",
      "\n",
      "\n",
      "(2, 3, 1, 1, 1, 2, 3, 0, 2, 3, 1, 0, 1, 1, 0, 0, 1, 0, 1, 0, 0, 1, 0, 0, 0, 1, 0, 1, 0, 0, 1, 0, 2, 3, 1, 0, 1, 1, 0, 0, 0, 0, 1, 0, 1, 1, 0, 1, 0, 1, 0, 0, 0, 1, 0, 0, 0, 1, 0, 0, 1, 0, 0, 0)\n"
     ]
    }
   ],
   "source": [
    "for batch_data in train_dataloader:\n",
    "    \n",
    "    text, labels = batch_data\n",
    "    break"
   ]
  },
  {
   "cell_type": "code",
   "execution_count": null,
   "id": "cd12cd77",
   "metadata": {},
   "outputs": [],
   "source": []
  }
 ],
 "metadata": {
  "kernelspec": {
   "display_name": "Python 3 (ipykernel)",
   "language": "python",
   "name": "python3"
  },
  "language_info": {
   "codemirror_mode": {
    "name": "ipython",
    "version": 3
   },
   "file_extension": ".py",
   "mimetype": "text/x-python",
   "name": "python",
   "nbconvert_exporter": "python",
   "pygments_lexer": "ipython3",
   "version": "3.9.16"
  }
 },
 "nbformat": 4,
 "nbformat_minor": 5
}
